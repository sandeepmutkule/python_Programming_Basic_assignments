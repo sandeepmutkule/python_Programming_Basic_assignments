{
 "cells": [
  {
   "cell_type": "markdown",
   "id": "77239dec",
   "metadata": {},
   "source": [
    "### Python Programming Basic Assignment 2"
   ]
  },
  {
   "cell_type": "markdown",
   "id": "63646998",
   "metadata": {},
   "source": [
    "#### 1. Write a Python program to convert kilometers to miles?"
   ]
  },
  {
   "cell_type": "code",
   "execution_count": 82,
   "id": "1ebb4d89",
   "metadata": {},
   "outputs": [],
   "source": [
    "def killometers_to_miles(): \n",
    "    try:\n",
    "        n = float(input(\"Enter the kilometers: \"))\n",
    "    except :\n",
    "        print('Invalid values entered.')\n",
    "    else:\n",
    "        print('Killometers to miles')\n",
    "        return round(n/1.609,4)"
   ]
  },
  {
   "cell_type": "code",
   "execution_count": 83,
   "id": "cad14d04",
   "metadata": {},
   "outputs": [
    {
     "name": "stdout",
     "output_type": "stream",
     "text": [
      "Enter a Number: 5\n",
      "Killometers to miles\n"
     ]
    },
    {
     "data": {
      "text/plain": [
       "3.1075"
      ]
     },
     "execution_count": 83,
     "metadata": {},
     "output_type": "execute_result"
    }
   ],
   "source": [
    "killometers_to_miles()"
   ]
  },
  {
   "cell_type": "markdown",
   "id": "ac862510",
   "metadata": {},
   "source": [
    "#### 2. Write a Python program to convert Celsius to Fahrenheit?"
   ]
  },
  {
   "cell_type": "code",
   "execution_count": 87,
   "id": "74894e09",
   "metadata": {},
   "outputs": [],
   "source": [
    "def celsius_to_Fahrenheit(): \n",
    "    try:\n",
    "        n = float(input(\"Enter the temperature in Celsius: \"))\n",
    "    except :\n",
    "        print('Invalid values entered.')\n",
    "    else:\n",
    "        print('Celsius to Fahrenheit conversion')\n",
    "        return round((n*9/5)+32,4)"
   ]
  },
  {
   "cell_type": "code",
   "execution_count": 89,
   "id": "f5779822",
   "metadata": {},
   "outputs": [
    {
     "name": "stdout",
     "output_type": "stream",
     "text": [
      "Enter the temperature in Celsius: 49\n",
      "Celsius to Fahrenheit conversion\n"
     ]
    },
    {
     "data": {
      "text/plain": [
       "120.2"
      ]
     },
     "execution_count": 89,
     "metadata": {},
     "output_type": "execute_result"
    }
   ],
   "source": [
    "celsius_to_Fahrenheit()"
   ]
  },
  {
   "cell_type": "markdown",
   "id": "6771990f",
   "metadata": {},
   "source": [
    "#### 3. Write a Python program to display calendar?"
   ]
  },
  {
   "cell_type": "code",
   "execution_count": 94,
   "id": "5c202303",
   "metadata": {},
   "outputs": [
    {
     "name": "stdout",
     "output_type": "stream",
     "text": [
      "                                  2022\n",
      "\n",
      "      January                   February                   March\n",
      "Mo Tu We Th Fr Sa Su      Mo Tu We Th Fr Sa Su      Mo Tu We Th Fr Sa Su\n",
      "                1  2          1  2  3  4  5  6          1  2  3  4  5  6\n",
      " 3  4  5  6  7  8  9       7  8  9 10 11 12 13       7  8  9 10 11 12 13\n",
      "10 11 12 13 14 15 16      14 15 16 17 18 19 20      14 15 16 17 18 19 20\n",
      "17 18 19 20 21 22 23      21 22 23 24 25 26 27      21 22 23 24 25 26 27\n",
      "24 25 26 27 28 29 30      28                        28 29 30 31\n",
      "31\n",
      "\n",
      "       April                      May                       June\n",
      "Mo Tu We Th Fr Sa Su      Mo Tu We Th Fr Sa Su      Mo Tu We Th Fr Sa Su\n",
      "             1  2  3                         1             1  2  3  4  5\n",
      " 4  5  6  7  8  9 10       2  3  4  5  6  7  8       6  7  8  9 10 11 12\n",
      "11 12 13 14 15 16 17       9 10 11 12 13 14 15      13 14 15 16 17 18 19\n",
      "18 19 20 21 22 23 24      16 17 18 19 20 21 22      20 21 22 23 24 25 26\n",
      "25 26 27 28 29 30         23 24 25 26 27 28 29      27 28 29 30\n",
      "                          30 31\n",
      "\n",
      "        July                     August                  September\n",
      "Mo Tu We Th Fr Sa Su      Mo Tu We Th Fr Sa Su      Mo Tu We Th Fr Sa Su\n",
      "             1  2  3       1  2  3  4  5  6  7                1  2  3  4\n",
      " 4  5  6  7  8  9 10       8  9 10 11 12 13 14       5  6  7  8  9 10 11\n",
      "11 12 13 14 15 16 17      15 16 17 18 19 20 21      12 13 14 15 16 17 18\n",
      "18 19 20 21 22 23 24      22 23 24 25 26 27 28      19 20 21 22 23 24 25\n",
      "25 26 27 28 29 30 31      29 30 31                  26 27 28 29 30\n",
      "\n",
      "      October                   November                  December\n",
      "Mo Tu We Th Fr Sa Su      Mo Tu We Th Fr Sa Su      Mo Tu We Th Fr Sa Su\n",
      "                1  2          1  2  3  4  5  6                1  2  3  4\n",
      " 3  4  5  6  7  8  9       7  8  9 10 11 12 13       5  6  7  8  9 10 11\n",
      "10 11 12 13 14 15 16      14 15 16 17 18 19 20      12 13 14 15 16 17 18\n",
      "17 18 19 20 21 22 23      21 22 23 24 25 26 27      19 20 21 22 23 24 25\n",
      "24 25 26 27 28 29 30      28 29 30                  26 27 28 29 30 31\n",
      "31\n",
      "\n"
     ]
    }
   ],
   "source": [
    "import calendar\n",
    "print(calendar.calendar(2022))"
   ]
  },
  {
   "cell_type": "markdown",
   "id": "6af29f5b",
   "metadata": {},
   "source": [
    "#### 4. Write a Python program to solve quadratic equation?"
   ]
  },
  {
   "cell_type": "code",
   "execution_count": 152,
   "id": "782e6be1",
   "metadata": {},
   "outputs": [],
   "source": [
    "import cmath\n",
    "def quadratic_equation_solver(): \n",
    "    try:\n",
    "        a = float(input(\"Enter the value of a: \"))\n",
    "        b = float(input(\"Enter the value of b: \"))\n",
    "        c = float(input(\"Enter the value of c: \"))\n",
    "    except Exception as e:\n",
    "        print(e)\n",
    "    else:\n",
    "        print('two roots are:')\n",
    "        return (-b + cmath.sqrt(b**2 - 4*a*c))/(2*a), (-b - cmath.sqrt(b**2 - 4*a*c))/(2*a)"
   ]
  },
  {
   "cell_type": "code",
   "execution_count": 156,
   "id": "f3a30b9a",
   "metadata": {
    "scrolled": false
   },
   "outputs": [
    {
     "name": "stdout",
     "output_type": "stream",
     "text": [
      "Enter the value of a: 10\n",
      "Enter the value of b: 55\n",
      "Enter the value of c: 4\n",
      "two roots are:\n"
     ]
    },
    {
     "data": {
      "text/plain": [
       "((-0.07371526178547291+0j), (-5.426284738214527+0j))"
      ]
     },
     "execution_count": 156,
     "metadata": {},
     "output_type": "execute_result"
    }
   ],
   "source": [
    "quadratic_equation_solver()"
   ]
  },
  {
   "cell_type": "markdown",
   "id": "ccdbac04",
   "metadata": {},
   "source": [
    "#### 5. Write a Python program to swap two variables without temp variable?"
   ]
  },
  {
   "cell_type": "code",
   "execution_count": 158,
   "id": "c0a36c18",
   "metadata": {},
   "outputs": [
    {
     "data": {
      "text/plain": [
       "(24, 45)"
      ]
     },
     "execution_count": 158,
     "metadata": {},
     "output_type": "execute_result"
    }
   ],
   "source": [
    "x = 24\n",
    "y = 45\n",
    "x,y    "
   ]
  },
  {
   "cell_type": "code",
   "execution_count": 159,
   "id": "8f0c4a7c",
   "metadata": {},
   "outputs": [
    {
     "data": {
      "text/plain": [
       "(45, 24)"
      ]
     },
     "execution_count": 159,
     "metadata": {},
     "output_type": "execute_result"
    }
   ],
   "source": [
    "# swap\n",
    "x,y = y,x\n",
    "x,y"
   ]
  },
  {
   "cell_type": "code",
   "execution_count": null,
   "id": "3b7eca74",
   "metadata": {},
   "outputs": [],
   "source": []
  }
 ],
 "metadata": {
  "kernelspec": {
   "display_name": "Python 3 (ipykernel)",
   "language": "python",
   "name": "python3"
  },
  "language_info": {
   "codemirror_mode": {
    "name": "ipython",
    "version": 3
   },
   "file_extension": ".py",
   "mimetype": "text/x-python",
   "name": "python",
   "nbconvert_exporter": "python",
   "pygments_lexer": "ipython3",
   "version": "3.9.7"
  }
 },
 "nbformat": 4,
 "nbformat_minor": 5
}
